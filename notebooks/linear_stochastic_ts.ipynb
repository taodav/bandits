{
 "cells": [
  {
   "cell_type": "code",
   "execution_count": 8,
   "id": "d941943f",
   "metadata": {},
   "outputs": [],
   "source": [
    "import numpy as np\n",
    "import matplotlib.pyplot as plt\n",
    "from tqdm.notebook import trange"
   ]
  },
  {
   "cell_type": "code",
   "execution_count": 12,
   "id": "79dd1413",
   "metadata": {},
   "outputs": [],
   "source": [
    "class LSBandit:\n",
    "    def __init__(self, dim: int, rng: np.random.RandomState, noise_scale: float = 0.1):\n",
    "        self.dim = dim\n",
    "        self.rng = rng\n",
    "        \n",
    "        self.noise_scale = noise_scale\n",
    "        self.theta = np.zeros(self.dim)\n",
    "        self.theta[0] = 1.\n",
    "    \n",
    "    def pull(self, action: np.ndarray):\n",
    "        return np.dot(self.theta, action) + self.rng.normal(loc=0., scale=self.noise_scale)\n",
    "        "
   ]
  },
  {
   "cell_type": "code",
   "execution_count": 13,
   "id": "28c32757",
   "metadata": {},
   "outputs": [],
   "source": [
    "def beta(delta: float, t: int, d: int, lamb: float = 1., S: int = 1, R: int = 1, ):\n",
    "    return R * np.sqrt(d * np.log(lamb + t) - d * np.log(lamb) - 2 * np.log(delta)) + np.sqrt(lamb) * S"
   ]
  },
  {
   "cell_type": "code",
   "execution_count": 30,
   "id": "56260f8a",
   "metadata": {},
   "outputs": [
    {
     "data": {
      "application/vnd.jupyter.widget-view+json": {
       "model_id": "1f817f113b714655a6d016c5f519d635",
       "version_major": 2,
       "version_minor": 0
      },
      "text/plain": [
       "  0%|          | 0/10000 [00:00<?, ?it/s]"
      ]
     },
     "metadata": {},
     "output_type": "display_data"
    }
   ],
   "source": [
    "dimension = 5\n",
    "lamb = 1\n",
    "total_eps = int(1e4)\n",
    "seed = 2020\n",
    "bandit_noise_scale = 0.1\n",
    "\n",
    "rng = np.random.RandomState(seed)\n",
    "\n",
    "bandit = LSBandit(dimension, rng, noise_scale=bandit_noise_scale)\n",
    "\n",
    "theta = np.zeros(dimension)\n",
    "cov_start = np.identity(dimension) * lamb\n",
    "cov = cov_start.copy()\n",
    "\n",
    "xs = 0\n",
    "regret = 0\n",
    "rsxs = np.zeros_like(theta)\n",
    "\n",
    "all_regret = []\n",
    "cum_regret = []\n",
    "all_actions_first = []\n",
    "inv = cov\n",
    "\n",
    "for t in trange(1, total_eps + 1):\n",
    "    # Thomson sampling\n",
    "    delta = 1/dimension\n",
    "    \n",
    "    b = beta(delta, t, dimension)\n",
    "    theta_hat = theta + b * rng.multivariate_normal(np.zeros(dimension), inv)\n",
    "    \n",
    "\n",
    "    # Argmax over arms\n",
    "    x_t = theta_hat / np.linalg.norm(theta_hat, ord=2)\n",
    "    \n",
    "    # Pull the bandit\n",
    "    r_t = bandit.pull(x_t)\n",
    "    all_actions_first.append(x_t[0])\n",
    "    regret = 1 - np.dot(bandit.theta, x_t)\n",
    "    if len(cum_regret) > 1:\n",
    "        cum_regret.append(regret + cum_regret[-1])\n",
    "    else:\n",
    "        cum_regret.append(regret)\n",
    "        \n",
    "    all_regret.append(regret)\n",
    "    \n",
    "    # Updating parameters\n",
    "    cov += np.outer(x_t, x_t)\n",
    "    rsxs += x_t*r_t\n",
    "    \n",
    "    inv = np.linalg.inv(cov)\n",
    "    theta = np.matmul(inv, rsxs)\n",
    "    \n",
    "    # Plotting\n",
    "#     if t % 1000 == 0:\n",
    "#         print(f\"step: {t}\\n\"\n",
    "#               f\"beta: {b}\\n\"\n",
    "#               f\"theta_hat: {theta_hat}\\n\"\n",
    "#               f\"x_t: {x_t}\\n\"\n",
    "#               f\"cov: {cov}\\n\"\n",
    "#               f\"theta: {theta}\\n\")\n",
    "\n",
    "    \n",
    "    \n"
   ]
  },
  {
   "cell_type": "code",
   "execution_count": 31,
   "id": "ca7704d6",
   "metadata": {},
   "outputs": [
    {
     "name": "stderr",
     "output_type": "stream",
     "text": [
      "No handles with labels found to put in legend.\n"
     ]
    },
    {
     "data": {
      "text/plain": [
       "<matplotlib.legend.Legend at 0x7fa728edc0d0>"
      ]
     },
     "execution_count": 31,
     "metadata": {},
     "output_type": "execute_result"
    },
    {
     "data": {
      "image/png": "[encoded data removed]",
      "text/plain": [
       "<Figure size 432x288 with 1 Axes>"
      ]
     },
     "metadata": {
      "needs_background": "light"
     },
     "output_type": "display_data"
    }
   ],
   "source": [
    "regret = np.array(cum_regret)\n",
    "x = np.arange(regret.shape[0])\n",
    "fig, ax = plt.figure(), plt.axes()\n",
    "\n",
    "ax.plot(x, regret)\n",
    "\n",
    "ax.set_xlabel('Episodes')\n",
    "ax.set_ylabel(f\"Regret\", rotation=0, labelpad=65)\n",
    "# ax.set_title(f'Discounted episodic returns over environment steps (Prefilled ratio = 0.0)')\n",
    "plt.legend(bbox_to_anchor=(1.00, 1), loc='upper left')"
   ]
  },
  {
   "cell_type": "code",
   "execution_count": 21,
   "id": "ff5d5551",
   "metadata": {},
   "outputs": [
    {
     "data": {
      "text/plain": [
       "[0.5037496318907315,\n",
       " 0.7335901888207,\n",
       " 0.8540067369900171,\n",
       " 0.6922477720281625,\n",
       " 0.6037456327564211,\n",
       " 0.2701704522435865,\n",
       " 0.10967998325471602,\n",
       " 0.4114972439304446,\n",
       " -0.539589190445843,\n",
       " 0.45369416585251127,\n",
       " 0.4662668275002096,\n",
       " 0.0029637766226024587,\n",
       " 0.9456868916899849,\n",
       " 0.7060240415152021,\n",
       " 0.5634508638489611,\n",
       " 0.15520142127597478,\n",
       " 0.2750357154683671,\n",
       " 0.0754202352801833,\n",
       " 0.016399875943591026,\n",
       " -0.0982381215039443,\n",
       " 0.3695544425930559,\n",
       " -0.03542719216255602,\n",
       " 0.792856545797608,\n",
       " -0.28100434655125567,\n",
       " 0.3949591467915414,\n",
       " 0.1858073208757239,\n",
       " 0.7235969494341176,\n",
       " -0.5544690570226114,\n",
       " -0.4289117151729031,\n",
       " -0.18113007647591664,\n",
       " -0.23929461575698244,\n",
       " 0.013180675529539557,\n",
       " -0.47887470501648327,\n",
       " -0.41379158503005437,\n",
       " -0.11645532796778482,\n",
       " -0.2987690375115919,\n",
       " -0.2019713186671956,\n",
       " -0.5318388590218263,\n",
       " -0.9039565351492205,\n",
       " 0.2022773282570425,\n",
       " -0.5292638136118671,\n",
       " 0.7828936388077841,\n",
       " 0.13776987422763587,\n",
       " -0.0726861100323459,\n",
       " 0.2095777461751629,\n",
       " -0.18722151636835688,\n",
       " -0.2063997925880513,\n",
       " -0.1807314817160164,\n",
       " -0.002354571918584805,\n",
       " 0.6012495848631745,\n",
       " 0.441149739702173,\n",
       " 0.1617880811867068,\n",
       " 0.12454473561327187,\n",
       " -0.06686529632751846,\n",
       " 0.3523731613583512,\n",
       " -0.6700186377755634,\n",
       " 0.5229505587320514,\n",
       " -0.9291435989400924,\n",
       " -0.5537196568881767,\n",
       " 0.3491433709598023,\n",
       " 0.36865284448005725,\n",
       " -0.4679559857474649,\n",
       " -0.2687733721962237,\n",
       " -0.5653463458922371,\n",
       " -0.10107033417610753,\n",
       " -0.0443999113675096,\n",
       " -0.13440283983271123,\n",
       " -0.32966988761904537,\n",
       " -0.9792566411883872,\n",
       " -0.4419584447589681,\n",
       " 0.4826255051672572,\n",
       " 0.35296256439214674,\n",
       " 0.6313694377920025,\n",
       " 0.6884873868596317,\n",
       " 0.3999021071607146,\n",
       " 0.25927893779911115,\n",
       " -0.7511218954623581,\n",
       " -0.09635277056037636,\n",
       " -0.19712124271912046,\n",
       " -0.10060418517618017,\n",
       " -0.12483412512344018,\n",
       " -0.5910461186962381,\n",
       " 0.3496532330698668,\n",
       " 0.1374496586845369,\n",
       " -0.11748663401360748,\n",
       " 0.07106712613369143,\n",
       " 0.4831663600897832,\n",
       " 0.667426411065216,\n",
       " 0.36347837121194654,\n",
       " 0.8613171084048101,\n",
       " -0.4497382257090769,\n",
       " -0.1569660649508651,\n",
       " -0.03513859484119336,\n",
       " 0.43600181000816624,\n",
       " -0.43879825946737694,\n",
       " 0.4666598147604462,\n",
       " -0.3023198288746537,\n",
       " -0.09521580026560922,\n",
       " -0.6643018373730523,\n",
       " -0.1423166789039877]"
      ]
     },
     "execution_count": 21,
     "metadata": {},
     "output_type": "execute_result"
    }
   ],
   "source": [
    "all_actions_first[-100:]"
   ]
  }
 ],
 "metadata": {
  "kernelspec": {
   "display_name": "Python 3 (ipykernel)",
   "language": "python",
   "name": "python3"
  },
  "language_info": {
   "codemirror_mode": {
    "name": "ipython",
    "version": 3
   },
   "file_extension": ".py",
   "mimetype": "text/x-python",
   "name": "python",
   "nbconvert_exporter": "python",
   "pygments_lexer": "ipython3",
   "version": "3.8.11"
  }
 },
 "nbformat": 4,
 "nbformat_minor": 5
}
